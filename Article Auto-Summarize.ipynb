{
 "cells": [
  {
   "cell_type": "code",
   "execution_count": 2,
   "metadata": {},
   "outputs": [
    {
     "name": "stdout",
     "output_type": "stream",
     "text": [
      "      By  Chico Harlan  , Bureau chief    August 16   ROME   Calling sexual abuse revelations within the U.S. Catholic Church a  moral catastrophe,  the head of the American bishops  group called Thursday for wider investigations of a former Washington archbishop and said laypeople should have a greater role in holding clerics accountable. The announcement, which also urges new steps to resolve complaints against bishops, provides the first sense of how a reeling church seeks to confront serial failures of its hierarchy to report abuse and remove predator priests. window.havePowaBoot=true; His announcement comes two days after the release of a scalding Pennsylvania grand jury report that depicted decades of systemic abuse, in which leaders kept potential criminal behavior  in house  and prioritized avoiding public scandal over protecting children. [As abuse rumors swirled, McCarrick rose as powerful Vatican fundraiser]  The overarching goal in all of this is stronger protections against predators in the Church and anyone who would conceal them, protections that will hold bishops to the highest standards of transparency and accountability,  he added.\n"
     ]
    }
   ],
   "source": [
    "import urllib\n",
    "from bs4 import BeautifulSoup\n",
    "from collections import defaultdict\n",
    "from heapq import nlargest\n",
    "from nltk.tokenize import word_tokenize, sent_tokenize\n",
    "from nltk.corpus import stopwords\n",
    "from string import punctuation\n",
    "from nltk.probability import FreqDist\n",
    "\n",
    "def get_Text_From_Url(url):\n",
    "    \n",
    "    page = urllib.request.urlopen(article_url)\n",
    "    soup = BeautifulSoup(page, 'lxml')\n",
    "    raw_text = ' '.join(map(lambda p: p.text, soup.findAll('article')))\n",
    "    decoded_text = raw_text.encode('ascii', errors='replace').replace(b\"?\", b\" \").decode(\"utf-8\")\n",
    "    \n",
    "    return decoded_text\n",
    "\n",
    "def summarize(text, n):\n",
    "    \n",
    "    extracted_sents = sent_tokenize(text)\n",
    "    \n",
    "    assert n <= len(extracted_sents)\n",
    "    \n",
    "    extracted_words_with_stopwords = word_tokenize(text.lower())\n",
    "    customStopWords = set(stopwords.words('english') + list(punctuation))\n",
    "    extracted_words = [word for word in extracted_words_with_stopwords if word not in customStopWords]\n",
    "    frequency_words = FreqDist(extracted_words)\n",
    "    \n",
    "    ranking_dict = defaultdict(int)\n",
    "    for i,sent in enumerate(extracted_sents):\n",
    "        for w in word_tokenize(sent):\n",
    "            if w in frequency_words:\n",
    "                ranking_dict[i] += frequency_words[w]\n",
    "                \n",
    "    sentence_index = nlargest(n, ranking_dict, key = ranking_dict.get)\n",
    "    summary = ' '.join([extracted_sents[id] for id in sorted(sentence_index)])\n",
    "    \n",
    "    return summary\n",
    "\n",
    "article_url = \"https://www.washingtonpost.com/world/europe/us-bishops-say-church-needs-lay-catholics-to-help-address-moral-catastrophe/2018/08/16/9c3a5ffa-a16b-11e8-93e3-24d1703d2a7a_story.html?utm_term=.92629aeb8a88\"\n",
    "text = get_Text_From_Url(article_url)\n",
    "summary = summarize(text, 4)\n",
    "print(summary)"
   ]
  },
  {
   "cell_type": "code",
   "execution_count": null,
   "metadata": {},
   "outputs": [],
   "source": []
  }
 ],
 "metadata": {
  "kernelspec": {
   "display_name": "Python 3",
   "language": "python",
   "name": "python3"
  },
  "language_info": {
   "codemirror_mode": {
    "name": "ipython",
    "version": 3
   },
   "file_extension": ".py",
   "mimetype": "text/x-python",
   "name": "python",
   "nbconvert_exporter": "python",
   "pygments_lexer": "ipython3",
   "version": "3.6.5"
  }
 },
 "nbformat": 4,
 "nbformat_minor": 2
}
